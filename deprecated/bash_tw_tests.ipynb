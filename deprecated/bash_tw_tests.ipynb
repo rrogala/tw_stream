{
 "cells": [
  {
   "cell_type": "code",
   "execution_count": null,
   "id": "7dc47888-5863-4acc-9a8a-b5ed3e16fae1",
   "metadata": {},
   "outputs": [],
   "source": [
    "\"\"\"\n",
    "%%bash\n",
    "curl -X POST 'https://api.twitter.com/2/tweets/search/stream/rules' \\\n",
    "-H \"Content-type: application/json\" \\\n",
    "-H \"Authorization: Bearer $TOKEN\" -d \\\n",
    "'{\n",
    "\"add\":[\n",
    "    {\"value\": \"hi bubs\"}\n",
    "    ]\n",
    "}'\n",
    "\"\"\""
   ]
  },
  {
   "cell_type": "code",
   "execution_count": null,
   "id": "f07299ae-9ce5-406c-9f62-d9b26ba6a64d",
   "metadata": {},
   "outputs": [],
   "source": [
    "\"\"\"\n",
    "%%bash\n",
    "curl -X POST 'https://api.twitter.com/2/tweets/search/stream/rules' \\\n",
    "-H \"Content-type: application/json\" \\\n",
    "-H \"Authorization: Bearer $TOKEN\" -d \\\n",
    "'{\n",
    "\"delete\": {\"ids\": ['1605304143861600256']}\n",
    "}'\n",
    "\"\"\""
   ]
  },
  {
   "cell_type": "code",
   "execution_count": null,
   "id": "2ac8dba3-9254-488c-8148-1b89f5ea2fd7",
   "metadata": {},
   "outputs": [],
   "source": [
    "\"\"\"\n",
    "%%bash\n",
    "curl -X GET 'https://api.twitter.com/2/tweets/search/stream/rules' \\\n",
    "-H \"Content-type: application/json\" \\\n",
    "-H \"Authorization: Bearer $TOKEN\"\n",
    "\"\"\""
   ]
  }
 ],
 "metadata": {
  "kernelspec": {
   "display_name": "tw_dev_env",
   "language": "python",
   "name": "tw_dev_env"
  },
  "language_info": {
   "codemirror_mode": {
    "name": "ipython",
    "version": 3
   },
   "file_extension": ".py",
   "mimetype": "text/x-python",
   "name": "python",
   "nbconvert_exporter": "python",
   "pygments_lexer": "ipython3",
   "version": "3.8.15"
  }
 },
 "nbformat": 4,
 "nbformat_minor": 5
}
