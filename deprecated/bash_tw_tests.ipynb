{
 "cells": [
  {
   "cell_type": "code",
   "execution_count": 1,
   "id": "794f4563",
   "metadata": {},
   "outputs": [],
   "source": [
    "import json \n",
    "import os"
   ]
  },
  {
   "cell_type": "code",
   "execution_count": 12,
   "id": "19eb051b",
   "metadata": {},
   "outputs": [],
   "source": [
    "path = '/Users/ryanrogala/Code/creds/tw_dev_001/twcreds.json'\n",
    "creds = json.load(open(path))\n",
    "os.environ['TOKEN'] = creds['bearer_token']"
   ]
  },
  {
   "cell_type": "markdown",
   "id": "12e13c02",
   "metadata": {},
   "source": [
    "Add a filter/rule to the twitter api rule set. \n",
    "\n",
    "------ "
   ]
  },
  {
   "cell_type": "code",
   "execution_count": 14,
   "id": "7dc47888-5863-4acc-9a8a-b5ed3e16fae1",
   "metadata": {},
   "outputs": [
    {
     "name": "stderr",
     "output_type": "stream",
     "text": [
      "  % Total    % Received % Xferd  Average Speed   Time    Time     Time  Current\n",
      "                                 Dload  Upload   Total   Spent    Left  Speed\n",
      "100   204  100   162  100    42    630    163 --:--:-- --:--:-- --:--:--   793\n"
     ]
    },
    {
     "name": "stdout",
     "output_type": "stream",
     "text": [
      "{\"data\":[{\"value\":\"broncos\",\"id\":\"1609354455811772416\"}],\"meta\":{\"sent\":\"2023-01-01T01:02:57.318Z\",\"summary\":{\"created\":1,\"not_created\":0,\"valid\":1,\"invalid\":0}}}"
     ]
    }
   ],
   "source": [
    "%%bash\n",
    "curl -X POST 'https://api.twitter.com/2/tweets/search/stream/rules' \\\n",
    "-H \"Content-type: application/json\" \\\n",
    "-H \"Authorization: Bearer $TOKEN\" -d \\\n",
    "'{\n",
    "\"add\":[\n",
    "    {\"value\": \"broncos\"}\n",
    "    ]\n",
    "}'"
   ]
  },
  {
   "cell_type": "markdown",
   "id": "9f88b6d8",
   "metadata": {},
   "source": [
    "Get a list of all rules/filters in api set. \n",
    "\n",
    "---- "
   ]
  },
  {
   "cell_type": "code",
   "execution_count": 15,
   "id": "26b90a65",
   "metadata": {},
   "outputs": [
    {
     "name": "stderr",
     "output_type": "stream",
     "text": [
      "  % Total    % Received % Xferd  Average Speed   Time    Time     Time  Current\n",
      "                                 Dload  Upload   Total   Spent    Left  Speed\n",
      "100   117  100   117    0     0    511      0 --:--:-- --:--:-- --:--:--   513\n"
     ]
    },
    {
     "name": "stdout",
     "output_type": "stream",
     "text": [
      "{\"data\":[{\"id\":\"1609354455811772416\",\"value\":\"broncos\"}],\"meta\":{\"sent\":\"2023-01-01T01:03:00.920Z\",\"result_count\":1}}"
     ]
    }
   ],
   "source": [
    "%%bash\n",
    "curl -X GET 'https://api.twitter.com/2/tweets/search/stream/rules' \\\n",
    "-H \"Content-type: application/json\" \\\n",
    "-H \"Authorization: Bearer $TOKEN\""
   ]
  },
  {
   "cell_type": "code",
   "execution_count": null,
   "id": "c5e064ab",
   "metadata": {},
   "outputs": [],
   "source": []
  },
  {
   "cell_type": "markdown",
   "id": "be6efffb",
   "metadata": {},
   "source": [
    "Delete a rule/filter, by id, in the api set. \n",
    "\n",
    "--- "
   ]
  },
  {
   "cell_type": "code",
   "execution_count": 7,
   "id": "f07299ae-9ce5-406c-9f62-d9b26ba6a64d",
   "metadata": {},
   "outputs": [
    {
     "name": "stderr",
     "output_type": "stream",
     "text": [
      "  % Total    % Received % Xferd  Average Speed   Time    Time     Time  Current\n",
      "                                 Dload  Upload   Total   Spent    Left  Speed\n",
      "100   128  100    84  100    44    331    173 --:--:-- --:--:-- --:--:--   505\n"
     ]
    },
    {
     "name": "stdout",
     "output_type": "stream",
     "text": [
      "{\"meta\":{\"sent\":\"2022-12-28T03:56:04.019Z\",\"summary\":{\"deleted\":1,\"not_deleted\":0}}}"
     ]
    }
   ],
   "source": [
    "%%bash\n",
    "curl -X POST 'https://api.twitter.com/2/tweets/search/stream/rules' \\\n",
    "-H \"Content-type: application/json\" \\\n",
    "-H \"Authorization: Bearer $TOKEN\" -d \\\n",
    "'{\n",
    "\"delete\": {\"ids\": ['1607948163805216774']}\n",
    "}'"
   ]
  },
  {
   "cell_type": "code",
   "execution_count": 16,
   "id": "d26e3f9a-51ef-4faa-aa69-ff488c96d5bf",
   "metadata": {},
   "outputs": [
    {
     "name": "stderr",
     "output_type": "stream",
     "text": [
      "  % Total    % Received % Xferd  Average Speed   Time    Time     Time  Current\n",
      "                                 Dload  Upload   Total   Spent    Left  Speed\n",
      "100  4324    0  4324    0     0     46      0 --:--:--  0:01:32 --:--:--    36"
     ]
    },
    {
     "name": "stdout",
     "output_type": "stream",
     "text": [
      "Process is interrupted.\n"
     ]
    }
   ],
   "source": [
    "%%bash\n",
    "curl -X GET 'https://api.twitter.com/2/tweets/search/stream' \\\n",
    "-H \"Content-type: application/json\" \\\n",
    "-H \"Authorization: Bearer $TOKEN\""
   ]
  },
  {
   "cell_type": "markdown",
   "id": "aefe1f75",
   "metadata": {},
   "source": [
    "Get results of rules set in api. \n",
    "\n",
    "--- "
   ]
  }
 ],
 "metadata": {
  "kernelspec": {
   "display_name": "tw_dev_env",
   "language": "python",
   "name": "tw_dev_env"
  },
  "language_info": {
   "codemirror_mode": {
    "name": "ipython",
    "version": 3
   },
   "file_extension": ".py",
   "mimetype": "text/x-python",
   "name": "python",
   "nbconvert_exporter": "python",
   "pygments_lexer": "ipython3",
   "version": "3.8.15"
  }
 },
 "nbformat": 4,
 "nbformat_minor": 5
}
