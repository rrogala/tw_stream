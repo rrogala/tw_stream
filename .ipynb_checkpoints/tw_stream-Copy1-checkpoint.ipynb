{
 "cells": [
  {
   "cell_type": "code",
   "execution_count": 1,
   "id": "b6a4fa8f-8143-4e0c-a048-3119f201bb0e",
   "metadata": {},
   "outputs": [],
   "source": [
    "import requests\n",
    "import os\n",
    "import json\n",
    "import pandas as pd\n",
    "import csv"
   ]
  },
  {
   "cell_type": "code",
   "execution_count": 2,
   "id": "7de19e28-59da-45bc-8332-7e9ed9e18747",
   "metadata": {},
   "outputs": [],
   "source": [
    "def set_token(path: str):\n",
    "    \"\"\"\n",
    "    Desc: \n",
    "        Set os env variable 'TOKEN' as bearer_token. \n",
    "    Params: \n",
    "        'path' - path to .json file containing developer account bearer_token value. \n",
    "    Pkgs: \n",
    "        os, json\n",
    "    \"\"\"\n",
    "    if path:\n",
    "        creds = json.load(open(path))\n",
    "        os.environ['TOKEN'] = creds['bearer_token']\n",
    "    if os.environ['TOKEN']:\n",
    "        return print('Set TOKEN enviroment varible.')\n",
    "    else:\n",
    "        Excption(\"Input 'path' to .json key file not found or is invalid.\")\n",
    "   \n",
    "    \n",
    "    \n",
    "def bearer_auth(a):\n",
    "    \"\"\"\n",
    "    Desc:\n",
    "        Set authentication params for header. \n",
    "    Pkgs:\n",
    "        os\n",
    "    \"\"\"\n",
    "    a.headers[\"Authorization\"] = \"Bearer {}\".format(os.environ['TOKEN'])\n",
    "    a.headers[\"User-Agent\"] = \"v2FilteredStreamPython\"\n",
    "    \n",
    "    return a\n",
    "\n",
    "\n",
    "def add_rules(rule: str):\n",
    "    \"\"\"\n",
    "    Desc:\n",
    "        Add content filter rule to twitter API.\n",
    "    Params:\n",
    "        'rule' - rule to add to API filter.\n",
    "    Helpers: \n",
    "        bearer_auth()\n",
    "    Pkgs: \n",
    "        requests, json\n",
    "    \"\"\"\n",
    "    stream_url = 'https://api.twitter.com/2/tweets/search/stream/rules'\n",
    "    body = {\"add\":[{\"value\": rule}]}\n",
    "    \n",
    "    r = requests.post(url = stream_url,\n",
    "                      auth = bearer_auth,\n",
    "                      json = body,\n",
    "                      timeout = 0.5\n",
    "                     )\n",
    "    \n",
    "    if r.status_code != '200':\n",
    "        Exception('STATUS: {} MESSAGE: {}'.format(r.status_code, r.text))\n",
    "     \n",
    "    response = r.json()\n",
    "    r.close()\n",
    "    \n",
    "    return response\n",
    "\n",
    "\n",
    "\n",
    "def list_rules(scope=None):\n",
    "    \"\"\"\n",
    "    Desc:\n",
    "       List content filter rules stored within twitter API.\n",
    "    Params:\n",
    "        'scope': \n",
    "            None - Returns list of both rule 'ids' and 'values' (Default).\n",
    "            ids - Returns lsit of rule 'ids' only. \n",
    "            values - Returns list of rule 'values' only. \n",
    "    Helpers: \n",
    "        bearer_auth()\n",
    "    Pkgs: \n",
    "        requests, json\n",
    "    \"\"\"\n",
    "    if scope not in [None,'ids','values']:\n",
    "        return Exception(\"'Scope' param value not valid.\")\n",
    "    \n",
    "    stream_url = 'https://api.twitter.com/2/tweets/search/stream/rules'\n",
    "    r = requests.get(url = stream_url,\n",
    "                     auth = bearer_auth, \n",
    "                     timeout = 0.5\n",
    "                    )\n",
    "    \n",
    "    if r.status_code != '200':\n",
    "         Exception('STATUS: {} MESSAGE: {}'.format(r.status_code, r.text))\n",
    "            \n",
    "    if 'data' in r.json():\n",
    "        output = r.json()['data']\n",
    "        temp_list = []\n",
    "        n_rules = len(output)\n",
    "        r.close()\n",
    "   \n",
    "        if scope == None:\n",
    "            return output\n",
    "\n",
    "        elif scope == 'ids':\n",
    "            for i in range(0, n_rules):\n",
    "                temp_list.append(output[i]['id'])\n",
    "            return temp_list\n",
    "\n",
    "        else:\n",
    "            for i in range(0, n_rules):\n",
    "                temp_list.append(output[i]['value'])\n",
    "            return temp_list\n",
    "    else:\n",
    "        r.close()\n",
    "        return print('Rules list is empty.')\n",
    "   \n",
    "\n",
    "        \n",
    "def delete_rules(ids: list):\n",
    "    \"\"\"\n",
    "    Desc:\n",
    "        Delete list of defined rules with twitter API content filter.\n",
    "    Params:\n",
    "        ids - List of rule ids from twitter API to delete.\n",
    "    Helpers: \n",
    "        bearer_auth()\n",
    "    Pkgs: \n",
    "        requests, json\n",
    "    \"\"\"\n",
    "    stream_url = 'https://api.twitter.com/2/tweets/search/stream/rules'\n",
    "    body = {\"delete\":{\"ids\": ids}}\n",
    "    r = requests.post(url = stream_url, \n",
    "                      auth = bearer_auth, \n",
    "                      json = body, \n",
    "                      timeout = 0.5)\n",
    "    \n",
    "    if r.status_code != '200':\n",
    "         Exception('STATUS: {} MESSAGE: {}'.format(r.status_code, r.text))\n",
    "    \n",
    "    response = r.json()\n",
    "    r.close()\n",
    "    return response"
   ]
  },
  {
   "cell_type": "code",
   "execution_count": 23,
   "id": "b1c8024a",
   "metadata": {},
   "outputs": [],
   "source": [
    "def stream(max_tweets=1):  \n",
    "    print('starting')\n",
    "    stream_url = 'https://api.twitter.com/2/tweets/sample/stream'\n",
    "    max_tweets = max(1, max_tweets)\n",
    "    print('about to stream') \n",
    "    r = requests.get(url = stream_url,\n",
    "                     auth = bearer_auth, \n",
    "                     stream = True\n",
    "                    )\n",
    "    \n",
    "    print(r.text)\n",
    "    if r.status_code != '200':\n",
    "        Exception('MESSAGE: {}'.format(r.text))\n",
    "    \n",
    "    n_tweets = 0\n",
    "    while n_tweets <= max_tweets:   \n",
    "        print(n_tweets)\n",
    "        for response_line in r.iter_lines():\n",
    "            if response_line:\n",
    "                json_response = json.loads(response_line)\n",
    "                print(json.dumps(json_response, indent=4, sort_keys=True))\n",
    "                n_tweets += 1\n",
    "    \n",
    "    print('closing')\n",
    "    r.close()"
   ]
  },
  {
   "cell_type": "code",
   "execution_count": 30,
   "id": "1e66ef49",
   "metadata": {},
   "outputs": [],
   "source": [
    "#TESTING BELOW:"
   ]
  },
  {
   "cell_type": "code",
   "execution_count": 9,
   "id": "a5cdf3ac",
   "metadata": {},
   "outputs": [
    {
     "name": "stdout",
     "output_type": "stream",
     "text": [
      "Set TOKEN enviroment varible.\n"
     ]
    }
   ],
   "source": [
    "path = '/Users/ryanrogala/Code/creds/tw_dev_001/twcreds.json'\n",
    "set_token(path)"
   ]
  },
  {
   "cell_type": "code",
   "execution_count": 33,
   "id": "ec7258e5",
   "metadata": {},
   "outputs": [
    {
     "data": {
      "text/plain": [
       "{'meta': {'sent': '2022-12-28T04:45:01.224Z',\n",
       "  'summary': {'deleted': 1, 'not_deleted': 0}}}"
      ]
     },
     "execution_count": 33,
     "metadata": {},
     "output_type": "execute_result"
    }
   ],
   "source": [
    "delete_rules(list_rules('ids'))"
   ]
  },
  {
   "cell_type": "code",
   "execution_count": 34,
   "id": "6d5247a0-2ac1-4e33-9b00-7c561142ba7e",
   "metadata": {},
   "outputs": [
    {
     "data": {
      "text/plain": [
       "{'data': [{'value': '@Broncos', 'id': '1607960794813313027'}],\n",
       " 'meta': {'sent': '2022-12-28T04:45:02.631Z',\n",
       "  'summary': {'created': 1, 'not_created': 0, 'valid': 1, 'invalid': 0}}}"
      ]
     },
     "execution_count": 34,
     "metadata": {},
     "output_type": "execute_result"
    }
   ],
   "source": [
    "add_rules('@Broncos')"
   ]
  },
  {
   "cell_type": "code",
   "execution_count": 22,
   "id": "e9b4d5ce-32e5-4fc8-813b-55faf0911baf",
   "metadata": {},
   "outputs": [
    {
     "data": {
      "text/plain": [
       "[{'id': '1607960794813313027', 'value': '@Broncos'}]"
      ]
     },
     "execution_count": 22,
     "metadata": {},
     "output_type": "execute_result"
    }
   ],
   "source": [
    "list_rules()"
   ]
  },
  {
   "cell_type": "code",
   "execution_count": 24,
   "id": "d7700b4f-6523-4f28-a5fb-143e3b38c422",
   "metadata": {},
   "outputs": [
    {
     "name": "stdout",
     "output_type": "stream",
     "text": [
      "starting\n",
      "about to stream\n"
     ]
    },
    {
     "ename": "KeyboardInterrupt",
     "evalue": "",
     "output_type": "error",
     "traceback": [
      "\u001b[0;31m---------------------------------------------------------------------------\u001b[0m",
      "\u001b[0;31mKeyboardInterrupt\u001b[0m                         Traceback (most recent call last)",
      "Cell \u001b[0;32mIn[24], line 1\u001b[0m\n\u001b[0;32m----> 1\u001b[0m \u001b[43mstream\u001b[49m\u001b[43m(\u001b[49m\u001b[38;5;241;43m5\u001b[39;49m\u001b[43m)\u001b[49m\n",
      "Cell \u001b[0;32mIn[23], line 11\u001b[0m, in \u001b[0;36mstream\u001b[0;34m(max_tweets)\u001b[0m\n\u001b[1;32m      5\u001b[0m \u001b[38;5;28mprint\u001b[39m(\u001b[38;5;124m'\u001b[39m\u001b[38;5;124mabout to stream\u001b[39m\u001b[38;5;124m'\u001b[39m) \n\u001b[1;32m      6\u001b[0m r \u001b[38;5;241m=\u001b[39m requests\u001b[38;5;241m.\u001b[39mget(url \u001b[38;5;241m=\u001b[39m stream_url,\n\u001b[1;32m      7\u001b[0m                  auth \u001b[38;5;241m=\u001b[39m bearer_auth, \n\u001b[1;32m      8\u001b[0m                  stream \u001b[38;5;241m=\u001b[39m \u001b[38;5;28;01mTrue\u001b[39;00m\n\u001b[1;32m      9\u001b[0m                 )\n\u001b[0;32m---> 11\u001b[0m \u001b[38;5;28mprint\u001b[39m(\u001b[43mr\u001b[49m\u001b[38;5;241;43m.\u001b[39;49m\u001b[43mtext\u001b[49m)\n\u001b[1;32m     12\u001b[0m \u001b[38;5;28;01mif\u001b[39;00m r\u001b[38;5;241m.\u001b[39mstatus_code \u001b[38;5;241m!=\u001b[39m \u001b[38;5;124m'\u001b[39m\u001b[38;5;124m200\u001b[39m\u001b[38;5;124m'\u001b[39m:\n\u001b[1;32m     13\u001b[0m     \u001b[38;5;167;01mException\u001b[39;00m(\u001b[38;5;124m'\u001b[39m\u001b[38;5;124mMESSAGE: \u001b[39m\u001b[38;5;132;01m{}\u001b[39;00m\u001b[38;5;124m'\u001b[39m\u001b[38;5;241m.\u001b[39mformat(r\u001b[38;5;241m.\u001b[39mtext))\n",
      "File \u001b[0;32m~/opt/anaconda3/envs/tw_dev_env/lib/python3.8/site-packages/requests/models.py:923\u001b[0m, in \u001b[0;36mResponse.text\u001b[0;34m(self)\u001b[0m\n\u001b[1;32m    920\u001b[0m content \u001b[38;5;241m=\u001b[39m \u001b[38;5;28;01mNone\u001b[39;00m\n\u001b[1;32m    921\u001b[0m encoding \u001b[38;5;241m=\u001b[39m \u001b[38;5;28mself\u001b[39m\u001b[38;5;241m.\u001b[39mencoding\n\u001b[0;32m--> 923\u001b[0m \u001b[38;5;28;01mif\u001b[39;00m \u001b[38;5;129;01mnot\u001b[39;00m \u001b[38;5;28;43mself\u001b[39;49m\u001b[38;5;241;43m.\u001b[39;49m\u001b[43mcontent\u001b[49m:\n\u001b[1;32m    924\u001b[0m     \u001b[38;5;28;01mreturn\u001b[39;00m \u001b[38;5;124m\"\u001b[39m\u001b[38;5;124m\"\u001b[39m\n\u001b[1;32m    926\u001b[0m \u001b[38;5;66;03m# Fallback to auto-detected encoding.\u001b[39;00m\n",
      "File \u001b[0;32m~/opt/anaconda3/envs/tw_dev_env/lib/python3.8/site-packages/requests/models.py:899\u001b[0m, in \u001b[0;36mResponse.content\u001b[0;34m(self)\u001b[0m\n\u001b[1;32m    897\u001b[0m         \u001b[38;5;28mself\u001b[39m\u001b[38;5;241m.\u001b[39m_content \u001b[38;5;241m=\u001b[39m \u001b[38;5;28;01mNone\u001b[39;00m\n\u001b[1;32m    898\u001b[0m     \u001b[38;5;28;01melse\u001b[39;00m:\n\u001b[0;32m--> 899\u001b[0m         \u001b[38;5;28mself\u001b[39m\u001b[38;5;241m.\u001b[39m_content \u001b[38;5;241m=\u001b[39m \u001b[38;5;124;43mb\u001b[39;49m\u001b[38;5;124;43m\"\u001b[39;49m\u001b[38;5;124;43m\"\u001b[39;49m\u001b[38;5;241;43m.\u001b[39;49m\u001b[43mjoin\u001b[49m\u001b[43m(\u001b[49m\u001b[38;5;28;43mself\u001b[39;49m\u001b[38;5;241;43m.\u001b[39;49m\u001b[43miter_content\u001b[49m\u001b[43m(\u001b[49m\u001b[43mCONTENT_CHUNK_SIZE\u001b[49m\u001b[43m)\u001b[49m\u001b[43m)\u001b[49m \u001b[38;5;129;01mor\u001b[39;00m \u001b[38;5;124mb\u001b[39m\u001b[38;5;124m\"\u001b[39m\u001b[38;5;124m\"\u001b[39m\n\u001b[1;32m    901\u001b[0m \u001b[38;5;28mself\u001b[39m\u001b[38;5;241m.\u001b[39m_content_consumed \u001b[38;5;241m=\u001b[39m \u001b[38;5;28;01mTrue\u001b[39;00m\n\u001b[1;32m    902\u001b[0m \u001b[38;5;66;03m# don't need to release the connection; that's been handled by urllib3\u001b[39;00m\n\u001b[1;32m    903\u001b[0m \u001b[38;5;66;03m# since we exhausted the data.\u001b[39;00m\n",
      "File \u001b[0;32m~/opt/anaconda3/envs/tw_dev_env/lib/python3.8/site-packages/requests/models.py:816\u001b[0m, in \u001b[0;36mResponse.iter_content.<locals>.generate\u001b[0;34m()\u001b[0m\n\u001b[1;32m    814\u001b[0m \u001b[38;5;28;01mif\u001b[39;00m \u001b[38;5;28mhasattr\u001b[39m(\u001b[38;5;28mself\u001b[39m\u001b[38;5;241m.\u001b[39mraw, \u001b[38;5;124m\"\u001b[39m\u001b[38;5;124mstream\u001b[39m\u001b[38;5;124m\"\u001b[39m):\n\u001b[1;32m    815\u001b[0m     \u001b[38;5;28;01mtry\u001b[39;00m:\n\u001b[0;32m--> 816\u001b[0m         \u001b[38;5;28;01myield from\u001b[39;00m \u001b[38;5;28mself\u001b[39m\u001b[38;5;241m.\u001b[39mraw\u001b[38;5;241m.\u001b[39mstream(chunk_size, decode_content\u001b[38;5;241m=\u001b[39m\u001b[38;5;28;01mTrue\u001b[39;00m)\n\u001b[1;32m    817\u001b[0m     \u001b[38;5;28;01mexcept\u001b[39;00m ProtocolError \u001b[38;5;28;01mas\u001b[39;00m e:\n\u001b[1;32m    818\u001b[0m         \u001b[38;5;28;01mraise\u001b[39;00m ChunkedEncodingError(e)\n",
      "File \u001b[0;32m~/opt/anaconda3/envs/tw_dev_env/lib/python3.8/site-packages/urllib3/response.py:624\u001b[0m, in \u001b[0;36mHTTPResponse.stream\u001b[0;34m(self, amt, decode_content)\u001b[0m\n\u001b[1;32m    608\u001b[0m \u001b[38;5;124;03m\"\"\"\u001b[39;00m\n\u001b[1;32m    609\u001b[0m \u001b[38;5;124;03mA generator wrapper for the read() method. A call will block until\u001b[39;00m\n\u001b[1;32m    610\u001b[0m \u001b[38;5;124;03m``amt`` bytes have been read from the connection or until the\u001b[39;00m\n\u001b[0;32m   (...)\u001b[0m\n\u001b[1;32m    621\u001b[0m \u001b[38;5;124;03m    'content-encoding' header.\u001b[39;00m\n\u001b[1;32m    622\u001b[0m \u001b[38;5;124;03m\"\"\"\u001b[39;00m\n\u001b[1;32m    623\u001b[0m \u001b[38;5;28;01mif\u001b[39;00m \u001b[38;5;28mself\u001b[39m\u001b[38;5;241m.\u001b[39mchunked \u001b[38;5;129;01mand\u001b[39;00m \u001b[38;5;28mself\u001b[39m\u001b[38;5;241m.\u001b[39msupports_chunked_reads():\n\u001b[0;32m--> 624\u001b[0m     \u001b[38;5;28;01mfor\u001b[39;00m line \u001b[38;5;129;01min\u001b[39;00m \u001b[38;5;28mself\u001b[39m\u001b[38;5;241m.\u001b[39mread_chunked(amt, decode_content\u001b[38;5;241m=\u001b[39mdecode_content):\n\u001b[1;32m    625\u001b[0m         \u001b[38;5;28;01myield\u001b[39;00m line\n\u001b[1;32m    626\u001b[0m \u001b[38;5;28;01melse\u001b[39;00m:\n",
      "File \u001b[0;32m~/opt/anaconda3/envs/tw_dev_env/lib/python3.8/site-packages/urllib3/response.py:828\u001b[0m, in \u001b[0;36mHTTPResponse.read_chunked\u001b[0;34m(self, amt, decode_content)\u001b[0m\n\u001b[1;32m    825\u001b[0m     \u001b[38;5;28;01mreturn\u001b[39;00m\n\u001b[1;32m    827\u001b[0m \u001b[38;5;28;01mwhile\u001b[39;00m \u001b[38;5;28;01mTrue\u001b[39;00m:\n\u001b[0;32m--> 828\u001b[0m     \u001b[38;5;28;43mself\u001b[39;49m\u001b[38;5;241;43m.\u001b[39;49m\u001b[43m_update_chunk_length\u001b[49m\u001b[43m(\u001b[49m\u001b[43m)\u001b[49m\n\u001b[1;32m    829\u001b[0m     \u001b[38;5;28;01mif\u001b[39;00m \u001b[38;5;28mself\u001b[39m\u001b[38;5;241m.\u001b[39mchunk_left \u001b[38;5;241m==\u001b[39m \u001b[38;5;241m0\u001b[39m:\n\u001b[1;32m    830\u001b[0m         \u001b[38;5;28;01mbreak\u001b[39;00m\n",
      "File \u001b[0;32m~/opt/anaconda3/envs/tw_dev_env/lib/python3.8/site-packages/urllib3/response.py:758\u001b[0m, in \u001b[0;36mHTTPResponse._update_chunk_length\u001b[0;34m(self)\u001b[0m\n\u001b[1;32m    756\u001b[0m \u001b[38;5;28;01mif\u001b[39;00m \u001b[38;5;28mself\u001b[39m\u001b[38;5;241m.\u001b[39mchunk_left \u001b[38;5;129;01mis\u001b[39;00m \u001b[38;5;129;01mnot\u001b[39;00m \u001b[38;5;28;01mNone\u001b[39;00m:\n\u001b[1;32m    757\u001b[0m     \u001b[38;5;28;01mreturn\u001b[39;00m\n\u001b[0;32m--> 758\u001b[0m line \u001b[38;5;241m=\u001b[39m \u001b[38;5;28;43mself\u001b[39;49m\u001b[38;5;241;43m.\u001b[39;49m\u001b[43m_fp\u001b[49m\u001b[38;5;241;43m.\u001b[39;49m\u001b[43mfp\u001b[49m\u001b[38;5;241;43m.\u001b[39;49m\u001b[43mreadline\u001b[49m\u001b[43m(\u001b[49m\u001b[43m)\u001b[49m\n\u001b[1;32m    759\u001b[0m line \u001b[38;5;241m=\u001b[39m line\u001b[38;5;241m.\u001b[39msplit(\u001b[38;5;124mb\u001b[39m\u001b[38;5;124m\"\u001b[39m\u001b[38;5;124m;\u001b[39m\u001b[38;5;124m\"\u001b[39m, \u001b[38;5;241m1\u001b[39m)[\u001b[38;5;241m0\u001b[39m]\n\u001b[1;32m    760\u001b[0m \u001b[38;5;28;01mtry\u001b[39;00m:\n",
      "File \u001b[0;32m~/opt/anaconda3/envs/tw_dev_env/lib/python3.8/socket.py:669\u001b[0m, in \u001b[0;36mSocketIO.readinto\u001b[0;34m(self, b)\u001b[0m\n\u001b[1;32m    667\u001b[0m \u001b[38;5;28;01mwhile\u001b[39;00m \u001b[38;5;28;01mTrue\u001b[39;00m:\n\u001b[1;32m    668\u001b[0m     \u001b[38;5;28;01mtry\u001b[39;00m:\n\u001b[0;32m--> 669\u001b[0m         \u001b[38;5;28;01mreturn\u001b[39;00m \u001b[38;5;28;43mself\u001b[39;49m\u001b[38;5;241;43m.\u001b[39;49m\u001b[43m_sock\u001b[49m\u001b[38;5;241;43m.\u001b[39;49m\u001b[43mrecv_into\u001b[49m\u001b[43m(\u001b[49m\u001b[43mb\u001b[49m\u001b[43m)\u001b[49m\n\u001b[1;32m    670\u001b[0m     \u001b[38;5;28;01mexcept\u001b[39;00m timeout:\n\u001b[1;32m    671\u001b[0m         \u001b[38;5;28mself\u001b[39m\u001b[38;5;241m.\u001b[39m_timeout_occurred \u001b[38;5;241m=\u001b[39m \u001b[38;5;28;01mTrue\u001b[39;00m\n",
      "File \u001b[0;32m~/opt/anaconda3/envs/tw_dev_env/lib/python3.8/ssl.py:1241\u001b[0m, in \u001b[0;36mSSLSocket.recv_into\u001b[0;34m(self, buffer, nbytes, flags)\u001b[0m\n\u001b[1;32m   1237\u001b[0m     \u001b[38;5;28;01mif\u001b[39;00m flags \u001b[38;5;241m!=\u001b[39m \u001b[38;5;241m0\u001b[39m:\n\u001b[1;32m   1238\u001b[0m         \u001b[38;5;28;01mraise\u001b[39;00m \u001b[38;5;167;01mValueError\u001b[39;00m(\n\u001b[1;32m   1239\u001b[0m           \u001b[38;5;124m\"\u001b[39m\u001b[38;5;124mnon-zero flags not allowed in calls to recv_into() on \u001b[39m\u001b[38;5;132;01m%s\u001b[39;00m\u001b[38;5;124m\"\u001b[39m \u001b[38;5;241m%\u001b[39m\n\u001b[1;32m   1240\u001b[0m           \u001b[38;5;28mself\u001b[39m\u001b[38;5;241m.\u001b[39m\u001b[38;5;18m__class__\u001b[39m)\n\u001b[0;32m-> 1241\u001b[0m     \u001b[38;5;28;01mreturn\u001b[39;00m \u001b[38;5;28;43mself\u001b[39;49m\u001b[38;5;241;43m.\u001b[39;49m\u001b[43mread\u001b[49m\u001b[43m(\u001b[49m\u001b[43mnbytes\u001b[49m\u001b[43m,\u001b[49m\u001b[43m \u001b[49m\u001b[43mbuffer\u001b[49m\u001b[43m)\u001b[49m\n\u001b[1;32m   1242\u001b[0m \u001b[38;5;28;01melse\u001b[39;00m:\n\u001b[1;32m   1243\u001b[0m     \u001b[38;5;28;01mreturn\u001b[39;00m \u001b[38;5;28msuper\u001b[39m()\u001b[38;5;241m.\u001b[39mrecv_into(buffer, nbytes, flags)\n",
      "File \u001b[0;32m~/opt/anaconda3/envs/tw_dev_env/lib/python3.8/ssl.py:1099\u001b[0m, in \u001b[0;36mSSLSocket.read\u001b[0;34m(self, len, buffer)\u001b[0m\n\u001b[1;32m   1097\u001b[0m \u001b[38;5;28;01mtry\u001b[39;00m:\n\u001b[1;32m   1098\u001b[0m     \u001b[38;5;28;01mif\u001b[39;00m buffer \u001b[38;5;129;01mis\u001b[39;00m \u001b[38;5;129;01mnot\u001b[39;00m \u001b[38;5;28;01mNone\u001b[39;00m:\n\u001b[0;32m-> 1099\u001b[0m         \u001b[38;5;28;01mreturn\u001b[39;00m \u001b[38;5;28;43mself\u001b[39;49m\u001b[38;5;241;43m.\u001b[39;49m\u001b[43m_sslobj\u001b[49m\u001b[38;5;241;43m.\u001b[39;49m\u001b[43mread\u001b[49m\u001b[43m(\u001b[49m\u001b[38;5;28;43mlen\u001b[39;49m\u001b[43m,\u001b[49m\u001b[43m \u001b[49m\u001b[43mbuffer\u001b[49m\u001b[43m)\u001b[49m\n\u001b[1;32m   1100\u001b[0m     \u001b[38;5;28;01melse\u001b[39;00m:\n\u001b[1;32m   1101\u001b[0m         \u001b[38;5;28;01mreturn\u001b[39;00m \u001b[38;5;28mself\u001b[39m\u001b[38;5;241m.\u001b[39m_sslobj\u001b[38;5;241m.\u001b[39mread(\u001b[38;5;28mlen\u001b[39m)\n",
      "\u001b[0;31mKeyboardInterrupt\u001b[0m: "
     ]
    }
   ],
   "source": [
    "stream(5)"
   ]
  }
 ],
 "metadata": {
  "kernelspec": {
   "display_name": "tw_dev_env",
   "language": "python",
   "name": "tw_dev_env"
  },
  "language_info": {
   "codemirror_mode": {
    "name": "ipython",
    "version": 3
   },
   "file_extension": ".py",
   "mimetype": "text/x-python",
   "name": "python",
   "nbconvert_exporter": "python",
   "pygments_lexer": "ipython3",
   "version": "3.8.15"
  }
 },
 "nbformat": 4,
 "nbformat_minor": 5
}
